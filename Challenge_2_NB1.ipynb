{
  "nbformat": 4,
  "nbformat_minor": 0,
  "metadata": {
    "colab": {
      "name": "Challenge 2 NB1.ipynb",
      "provenance": [],
      "authorship_tag": "ABX9TyPDdAihg6TiZ7o3cEhLbL6C",
      "include_colab_link": true
    },
    "kernelspec": {
      "name": "python3",
      "display_name": "Python 3"
    },
    "language_info": {
      "name": "python"
    }
  },
  "cells": [
    {
      "cell_type": "markdown",
      "metadata": {
        "id": "view-in-github",
        "colab_type": "text"
      },
      "source": [
        "<a href=\"https://colab.research.google.com/github/lidjud/Challenges-NB1/blob/main/Challenge_2_NB1.ipynb\" target=\"_parent\"><img src=\"https://colab.research.google.com/assets/colab-badge.svg\" alt=\"Open In Colab\"/></a>"
      ]
    },
    {
      "cell_type": "markdown",
      "source": [
        "# **Challenge 2: Debugging practice 🐞**"
      ],
      "metadata": {
        "id": "XtuTpN2Jkt-r"
      }
    },
    {
      "cell_type": "markdown",
      "source": [
        "Observa el siguiente código. Cada una de las líneas de código contiene errores. Modifica y logra correr el código."
      ],
      "metadata": {
        "id": "pxLzjYl-kvM9"
      }
    },
    {
      "cell_type": "code",
      "execution_count": null,
      "metadata": {
        "id": "GTYAwe2UkqjH"
      },
      "outputs": [],
      "source": [
        "print(Day 1 - String Manipulation\")\n",
        "print(\"String Concatenation is done with the \"+\" sign.\")\n",
        "  print('e.g. print(\"Hello \" + \"world\")')\n",
        "print((\"New lines can be created with a backslash and n.\")"
      ]
    }
  ]
}