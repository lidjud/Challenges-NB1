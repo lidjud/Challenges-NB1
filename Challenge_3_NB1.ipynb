{
  "nbformat": 4,
  "nbformat_minor": 0,
  "metadata": {
    "colab": {
      "name": "Challenge 3 NB1.ipynb",
      "provenance": [],
      "authorship_tag": "ABX9TyNISFo6v+bQ+uambQuGBNYM",
      "include_colab_link": true
    },
    "kernelspec": {
      "name": "python3",
      "display_name": "Python 3"
    },
    "language_info": {
      "name": "python"
    }
  },
  "cells": [
    {
      "cell_type": "markdown",
      "metadata": {
        "id": "view-in-github",
        "colab_type": "text"
      },
      "source": [
        "<a href=\"https://colab.research.google.com/github/lidjud/Challenges-NB1/blob/main/Challenge_3_NB1.ipynb\" target=\"_parent\"><img src=\"https://colab.research.google.com/assets/colab-badge.svg\" alt=\"Open In Colab\"/></a>"
      ]
    },
    {
      "cell_type": "markdown",
      "source": [
        "# **Challenge 3: input() function**"
      ],
      "metadata": {
        "id": "Xn-FUxbzndBB"
      }
    },
    {
      "cell_type": "markdown",
      "source": [
        "Escribe un programa que imprima el número de caracteres del nombre de un usuario. Para poder realizar este challenge, es necesario que busques en Google una función que te permita calcular la longitud de una cadena.\n",
        "\n",
        "[Búsqueda en Google](https://www.google.com/search?q=how+to+get+the+length+of+a+string+in+python+stack+overflow)"
      ],
      "metadata": {
        "id": "-T8rYNf8nhFL"
      }
    },
    {
      "cell_type": "markdown",
      "source": [
        "Ejemplo:\n",
        "\n",
        "entrada: \n",
        "\n",
        "```\n",
        "Lucero\n",
        "```\n",
        "\n",
        "\n",
        "imprime: \n",
        "\n",
        "\n",
        "```\n",
        "6\n",
        "```\n",
        "\n"
      ],
      "metadata": {
        "id": "-P0J5pi9nkm0"
      }
    },
    {
      "cell_type": "code",
      "execution_count": null,
      "metadata": {
        "id": "D1Reo9ovlYPK"
      },
      "outputs": [],
      "source": [
        ""
      ]
    }
  ]
}