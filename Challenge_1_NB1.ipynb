{
  "nbformat": 4,
  "nbformat_minor": 0,
  "metadata": {
    "colab": {
      "name": "Challenge 1 NB1.ipynb",
      "provenance": [],
      "authorship_tag": "ABX9TyP3XKXhTkmMgJ6lmw+rGSOm",
      "include_colab_link": true
    },
    "kernelspec": {
      "name": "python3",
      "display_name": "Python 3"
    },
    "language_info": {
      "name": "python"
    }
  },
  "cells": [
    {
      "cell_type": "markdown",
      "metadata": {
        "id": "view-in-github",
        "colab_type": "text"
      },
      "source": [
        "<a href=\"https://colab.research.google.com/github/lidjud/Challenges-NB1/blob/main/Challenge_1_NB1.ipynb\" target=\"_parent\"><img src=\"https://colab.research.google.com/assets/colab-badge.svg\" alt=\"Open In Colab\"/></a>"
      ]
    },
    {
      "cell_type": "markdown",
      "source": [
        "# **Challenge 1: Printing**"
      ],
      "metadata": {
        "id": "Z8NKU0lGjFgx"
      }
    },
    {
      "cell_type": "markdown",
      "source": [
        "Escribe un nuevo código que imprima la siguiente nota. Recuerda usar la función ```print()```.\n",
        "\n",
        "\n",
        "\n",
        "\n",
        "```\n",
        "Mi prider día programando con Python - Función print()\n",
        "\n",
        "Declaración de la función:\n",
        "\n",
        "print('texto que deseas imprimir en pantalla')\n",
        "```\n",
        "\n",
        "\n"
      ],
      "metadata": {
        "id": "RY-orSD0jG6F"
      }
    },
    {
      "cell_type": "code",
      "source": [
        ""
      ],
      "metadata": {
        "id": "_5bgfztdk-Fg"
      },
      "execution_count": null,
      "outputs": []
    }
  ]
}